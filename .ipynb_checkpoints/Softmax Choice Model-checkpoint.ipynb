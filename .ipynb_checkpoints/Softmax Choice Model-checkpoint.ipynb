{
 "cells": [
  {
   "cell_type": "code",
   "execution_count": 1,
   "metadata": {},
   "outputs": [],
   "source": [
    "import matplotlib.pyplot as plt\n",
    "import random\n",
    "import numpy as np"
   ]
  },
  {
   "cell_type": "markdown",
   "metadata": {},
   "source": [
    "# Soft-max equation "
   ]
  },
  {
   "cell_type": "markdown",
   "metadata": {},
   "source": [
    "Turn (learned) values into actions:\n",
    "\n",
    "\\begin{equation*}\n",
    "p(s) = \\frac{e^{\\beta V_{s}}}{\\sum_{i} e^{\\beta V_{i}}}\n",
    "\\end{equation*}\n",
    "\n",
    "$\\beta$ is the inverse decision temperature and controls the degree to which the expected values are used in determining the action chosen. "
   ]
  },
  {
   "cell_type": "markdown",
   "metadata": {},
   "source": [
    "To understand this, let there be two options A and B. \n",
    "\n",
    "\\begin{equation*}\n",
    "p(A) = \\frac{e^{\\beta V_{A}}}{e^{\\beta V_{A}}+e^{\\beta V_{B}}}\n",
    "\\end{equation*}\n",
    "\n",
    "A very popular notation, \n",
    "\n",
    "\\begin{equation*}\n",
    "p(A) = \\frac{1}{1+e^{\\beta V_{B} - \\beta V_{A}}}\n",
    "\\end{equation*}\n"
   ]
  },
  {
   "cell_type": "markdown",
   "metadata": {},
   "source": [
    "Assume there are two actions A and B. Let Value_A = a and Value_B = 1 - a."
   ]
  },
  {
   "cell_type": "code",
   "execution_count": 7,
   "metadata": {},
   "outputs": [],
   "source": [
    "value_a = np.arange(0.0, 1.0, 0.02)\n",
    "value_b = 1 - value_a\n"
   ]
  },
  {
   "cell_type": "code",
   "execution_count": 47,
   "metadata": {},
   "outputs": [],
   "source": [
    "def softmax(beta, value_a):\n",
    "    \"\"\"\n",
    "    beta is a scalar, inverse decision temperature\n",
    "    value_a an array\n",
    "    return probability of choose A\n",
    "    \"\"\"\n",
    "    value_b = 1 - value_a\n",
    "    p = (np.exp(beta*value_a))/(np.exp(beta*value_a)+np.exp(beta*value_b))\n",
    "    return p\n"
   ]
  },
  {
   "cell_type": "code",
   "execution_count": 70,
   "metadata": {},
   "outputs": [
    {
     "data": {
      "text/plain": [
       "Text(0.5, 1.0, 'A comparison bewteen three inverse decision temperatures')"
      ]
     },
     "execution_count": 70,
     "metadata": {},
     "output_type": "execute_result"
    },
    {
     "data": {
      "image/png": "[encoded data removed]",
      "text/plain": [
       "<Figure size 432x288 with 1 Axes>"
      ]
     },
     "metadata": {
      "needs_background": "light"
     },
     "output_type": "display_data"
    }
   ],
   "source": [
    "pr_3 = softmax(3, np.arange(0.0, 1.0, 0.02))\n",
    "pr_9 = softmax(9, np.arange(0.0, 1.0, 0.02))\n",
    "pr_10 = softmax(10, np.arange(0.0, 1.0, 0.02))\n",
    "\n",
    "# generate choices based on probability of choosing A\n",
    "choice_3 = (np.random.random(len(value_a)) < pr_3)*(1+0.02)\n",
    "choice_3[choice_3 == 0] = choice_3[choice_3 == 0] - 0.02\n",
    "\n",
    "choice_9 = (np.random.random(len(value_a)) < pr_9)*(1+0.04)\n",
    "choice_9[choice_9 == 0] = choice_9[choice_9 == 0] - 0.04\n",
    "\n",
    "choice_10 = (np.random.random(len(value_a)) < pr_10)*(1+0.06)\n",
    "choice_10[choice_10 == 0] = choice_10[choice_10 == 0] - 0.06\n",
    "\n",
    "\n",
    "value_a = np.arange(0.0, 1.0, 0.02)\n",
    "value_b = 1 - value_a\n",
    "x = value_a - value_b\n",
    "plt.plot (x, pr_3, color = \"gold\")\n",
    "plt.plot (x, pr_9, color = \"black\")\n",
    "plt.plot (x, pr_10, color = \"red\")\n",
    "\n",
    "plt.scatter (x, choice_3, marker = \"*\", color = \"gold\")\n",
    "plt.scatter (x, choice_9, marker = \"*\", color = \"black\")\n",
    "plt.scatter (x, choice_10, marker = \"*\", color = \"red\") \n",
    "    \n",
    "plt.ylim(-0.08, 1.08)\n",
    "plt.xlabel(\"Va - Vb\")\n",
    "plt.ylabel(\"P(A)\")\n",
    "plt.title(\"A comparison bewteen three inverse decision temperatures\")\n"
   ]
  },
  {
   "cell_type": "code",
   "execution_count": null,
   "metadata": {},
   "outputs": [],
   "source": []
  },
  {
   "cell_type": "code",
   "execution_count": null,
   "metadata": {},
   "outputs": [],
   "source": []
  },
  {
   "cell_type": "code",
   "execution_count": null,
   "metadata": {},
   "outputs": [],
   "source": []
  },
  {
   "cell_type": "code",
   "execution_count": null,
   "metadata": {},
   "outputs": [],
   "source": []
  },
  {
   "cell_type": "code",
   "execution_count": null,
   "metadata": {},
   "outputs": [],
   "source": []
  },
  {
   "cell_type": "code",
   "execution_count": null,
   "metadata": {},
   "outputs": [],
   "source": []
  },
  {
   "cell_type": "code",
   "execution_count": null,
   "metadata": {},
   "outputs": [],
   "source": []
  },
  {
   "cell_type": "code",
   "execution_count": null,
   "metadata": {},
   "outputs": [],
   "source": []
  }
 ],
 "metadata": {
  "kernelspec": {
   "display_name": "Python 3",
   "language": "python",
   "name": "python3"
  },
  "language_info": {
   "codemirror_mode": {
    "name": "ipython",
    "version": 3
   },
   "file_extension": ".py",
   "mimetype": "text/x-python",
   "name": "python",
   "nbconvert_exporter": "python",
   "pygments_lexer": "ipython3",
   "version": "3.6.3"
  }
 },
 "nbformat": 4,
 "nbformat_minor": 4
}
