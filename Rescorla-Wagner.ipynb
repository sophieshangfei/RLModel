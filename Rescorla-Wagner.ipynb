{
 "cells": [
  {
   "cell_type": "code",
   "execution_count": 3,
   "metadata": {},
   "outputs": [],
   "source": [
    "import matplotlib.pyplot as plt\n",
    "import random\n",
    "import numpy as np"
   ]
  },
  {
   "cell_type": "markdown",
   "metadata": {},
   "source": [
    "http://www.hannekedenouden.ruhosting.nl/RLtutorial/html/SoftMax.html"
   ]
  },
  {
   "cell_type": "markdown",
   "metadata": {},
   "source": [
    "# The Rescorla-Wagner Model"
   ]
  },
  {
   "cell_type": "markdown",
   "metadata": {},
   "source": [
    "$V_{s,t}$ = $V_{s,t-1}$ + $\\alpha(r_{t-1} - V_{s,t-1})$\n",
    "\n",
    "$V_{s,t}$: expected value of stimulus $s$ at trial $t$\n",
    "\n",
    "$V_{s,t-1}$: expected value of stimulus $s$ at trial $t-1$\n",
    "\n",
    "$\\alpha$: learning rate\n",
    "\n",
    "$r_{t-1}$: actual reward received at trial $t-1$\n"
   ]
  },
  {
   "cell_type": "markdown",
   "metadata": {},
   "source": [
    "The expected value of trial $t$ is updated based on the prediction error, namely, $(r_{t-1} - V_{s,t-1})$. But such update is controlled by learning rate $\\alpha$. \n",
    "\n",
    "Learning rate determines how much this prediction error is weighted.\n",
    "\n",
    "Specifically, \n",
    "\n",
    "To re-arrange the model, \n",
    "\n",
    "$V_{s,t}$ = $V_{s,t-1}$ + $\\alpha r_{t-1}$ - $\\alpha(V_{s,t-1})$\n",
    "\n",
    "= (1-$\\alpha$)$V_{s,t-1}$ + $\\alpha r_{t-1}$\n",
    "\n",
    "When learning rate is high, the most recent outcome (i.e. $r_{t-1}$) has the most impact.\n",
    "\n",
    "When learning rate is low, belief about past trials carry more weight."
   ]
  },
  {
   "cell_type": "markdown",
   "metadata": {},
   "source": [
    "\n",
    "\n",
    "*OG Rescorla-Wagner model has another factor called salience..."
   ]
  },
  {
   "cell_type": "code",
   "execution_count": 32,
   "metadata": {},
   "outputs": [],
   "source": [
    "def rw(alpha, outcome, initial):\n",
    "    updated = alpha * (outcome - initial)\n",
    "    return initial + updated\n",
    "\n",
    "def trial(alpha, outcome, initial, num_trials):\n",
    "    count = 0\n",
    "    expected_value = [initial]\n",
    "    while count < num_trials:\n",
    "        count+=1 \n",
    "        new = rw(alpha, outcome, initial)\n",
    "        initial = new # trial t+1 updated belief is the initial belief of t+2\n",
    "        expected_value.append(initial)\n",
    "    return expected_value\n",
    "\n"
   ]
  },
  {
   "cell_type": "markdown",
   "metadata": {},
   "source": [
    "There are 20 trials. With an initial value of 0.5. Outcome is set to 1 and always will be 1. \n",
    "\n",
    "There are two learning rate -- one high and one low. \n",
    "\n",
    "How fast (trial number) can this learner to figure out outcome value = 1?"
   ]
  },
  {
   "cell_type": "code",
   "execution_count": 42,
   "metadata": {},
   "outputs": [
    {
     "data": {
      "text/plain": [
       "Text(0.5, 1.0, 'A comparison of learning rate')"
      ]
     },
     "execution_count": 42,
     "metadata": {},
     "output_type": "execute_result"
    },
    {
     "data": {
      "image/png": "[encoded data removed]",
      "text/plain": [
       "<Figure size 432x288 with 1 Axes>"
      ]
     },
     "metadata": {
      "needs_background": "light"
     },
     "output_type": "display_data"
    }
   ],
   "source": [
    "trial_no = list(range(0, 20))\n",
    "expected_high = trial(0.75, 1.0, 0.5, 20)\n",
    "expected_low = trial(0.05, 1.0, 0.5, 20)\n",
    "\n",
    "plt.plot(trial_no, expected_high, color='blue', linewidth=4)\n",
    "plt.plot(trial_no, expected_low, color='gold', linewidth=4)\n",
    "plt.xlabel('Trial Number')\n",
    "plt.ylabel('Expected Value')\n",
    "plt.axhline(y = 1)\n",
    "plt.title(\"A comparison of learning rate\")\n",
    "\n",
    "\n"
   ]
  },
  {
   "cell_type": "code",
   "execution_count": null,
   "metadata": {},
   "outputs": [],
   "source": []
  },
  {
   "cell_type": "markdown",
   "metadata": {},
   "source": [
    "Force (learned) values into actions:\n",
    "\n",
    "\\begin{equation*}\n",
    "p(A) = \\frac{e^{\\beta V_{s}}}{\\sum_{i} e^{\\beta V_{i}}}\n",
    "\\end{equation*}\n"
   ]
  },
  {
   "cell_type": "markdown",
   "metadata": {},
   "source": [
    "To understand this, \n",
    "\n",
    "\\begin{equation*}\n",
    "p(A) = \\frac{e^{\\beta V_{A}}}{e^{\\beta V_{A}}+e^{\\beta V_{B}}}\n",
    "\\end{equation*}\n"
   ]
  },
  {
   "cell_type": "markdown",
   "metadata": {},
   "source": [
    "Assume there are two actions A and B. Let Value_A = a and Value_B = 1 - a."
   ]
  },
  {
   "cell_type": "code",
   "execution_count": 4,
   "metadata": {},
   "outputs": [],
   "source": [
    "value_a = np.arange(0.0, 1.0, 0.02)\n",
    "value_b = 1 - value_a"
   ]
  },
  {
   "cell_type": "code",
   "execution_count": null,
   "metadata": {},
   "outputs": [],
   "source": [
    "for beta = betaArray\n",
    "    ct = ct+1;\n",
    "    pa(ct,:) = exp(beta*va)./(exp(beta*va)+exp(beta*vb)); % probability of choosing A\n",
    "    leg{ct} = sprintf('beta = %d',beta);\n",
    "    tmp = double(rand(1,length(va))< pa(ct,:))*(1+x*ct); % generate choices based on this data\n",
    "    tmp(tmp==0)=tmp(tmp==0)-x*ct;\n",
    "    data(ct,:) = tmp;\n",
    "end"
   ]
  },
  {
   "cell_type": "code",
   "execution_count": null,
   "metadata": {},
   "outputs": [],
   "source": [
    "def softmax(beta, value_a):\n",
    "    \n",
    "    A = np.exp(beta*value_a)/ np.sum(np.exp(value_a), axis=0)\n",
    "    \n",
    "    return A, cache"
   ]
  },
  {
   "cell_type": "code",
   "execution_count": null,
   "metadata": {},
   "outputs": [],
   "source": []
  },
  {
   "cell_type": "code",
   "execution_count": null,
   "metadata": {},
   "outputs": [],
   "source": []
  },
  {
   "cell_type": "code",
   "execution_count": null,
   "metadata": {},
   "outputs": [],
   "source": []
  },
  {
   "cell_type": "code",
   "execution_count": null,
   "metadata": {},
   "outputs": [],
   "source": []
  },
  {
   "cell_type": "code",
   "execution_count": null,
   "metadata": {},
   "outputs": [],
   "source": []
  }
 ],
 "metadata": {
  "kernelspec": {
   "display_name": "Python 3",
   "language": "python",
   "name": "python3"
  },
  "language_info": {
   "codemirror_mode": {
    "name": "ipython",
    "version": 3
   },
   "file_extension": ".py",
   "mimetype": "text/x-python",
   "name": "python",
   "nbconvert_exporter": "python",
   "pygments_lexer": "ipython3",
   "version": "3.6.3"
  }
 },
 "nbformat": 4,
 "nbformat_minor": 4
}
